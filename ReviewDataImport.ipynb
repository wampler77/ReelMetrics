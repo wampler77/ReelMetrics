{
 "cells": [
  {
   "cell_type": "markdown",
   "id": "04fde11e",
   "metadata": {},
   "source": []
  },
  {
   "cell_type": "code",
   "execution_count": 1,
   "id": "46278771",
   "metadata": {},
   "outputs": [
    {
     "name": "stderr",
     "output_type": "stream",
     "text": [
      "c:\\Users\\viper\\anaconda3\\envs\\ReelMetrics\\Lib\\site-packages\\tqdm\\auto.py:21: TqdmWarning: IProgress not found. Please update jupyter and ipywidgets. See https://ipywidgets.readthedocs.io/en/stable/user_install.html\n",
      "  from .autonotebook import tqdm as notebook_tqdm\n"
     ]
    },
    {
     "name": "stdout",
     "output_type": "stream",
     "text": [
      "Downloading from https://www.kaggle.com/api/v1/datasets/download/stefanoleone992/rotten-tomatoes-movies-and-critic-reviews-dataset?dataset_version_number=1...\n"
     ]
    },
    {
     "name": "stderr",
     "output_type": "stream",
     "text": [
      "100%|██████████| 77.2M/77.2M [00:06<00:00, 13.1MB/s]"
     ]
    },
    {
     "name": "stdout",
     "output_type": "stream",
     "text": [
      "Extracting files...\n"
     ]
    },
    {
     "name": "stderr",
     "output_type": "stream",
     "text": [
      "\n"
     ]
    },
    {
     "name": "stdout",
     "output_type": "stream",
     "text": [
      "Path to dataset files: C:\\Users\\viper\\.cache\\kagglehub\\datasets\\stefanoleone992\\rotten-tomatoes-movies-and-critic-reviews-dataset\\versions\\1\n"
     ]
    }
   ],
   "source": [
    "# First we import the rotten tomatoes dataset from kaggle\n",
    "import kagglehub\n",
    "\n",
    "# Download latest version\n",
    "path = kagglehub.dataset_download(\"stefanoleone992/rotten-tomatoes-movies-and-critic-reviews-dataset\")\n",
    "\n",
    "print(\"Path to dataset files:\", path)"
   ]
  },
  {
   "cell_type": "code",
   "execution_count": 2,
   "id": "9d98c444",
   "metadata": {},
   "outputs": [],
   "source": [
    "import pandas as pd\n",
    "mov = pd.read_csv('rotten_tomatoes_movies.csv')"
   ]
  },
  {
   "cell_type": "code",
   "execution_count": 3,
   "id": "b33518a0",
   "metadata": {},
   "outputs": [
    {
     "data": {
      "text/plain": [
       "<bound method NDFrame.head of                         rotten_tomatoes_link  \\\n",
       "0                                  m/0814255   \n",
       "1                                  m/0878835   \n",
       "2                                       m/10   \n",
       "3                     m/1000013-12_angry_men   \n",
       "4      m/1000079-20000_leagues_under_the_sea   \n",
       "...                                      ...   \n",
       "17707                            m/zoot_suit   \n",
       "17708                             m/zootopia   \n",
       "17709                      m/zorba_the_greek   \n",
       "17710                                 m/zulu   \n",
       "17711                            m/zulu_dawn   \n",
       "\n",
       "                                             movie_title  \\\n",
       "0      Percy Jackson & the Olympians: The Lightning T...   \n",
       "1                                            Please Give   \n",
       "2                                                     10   \n",
       "3                        12 Angry Men (Twelve Angry Men)   \n",
       "4                           20,000 Leagues Under The Sea   \n",
       "...                                                  ...   \n",
       "17707                                          Zoot Suit   \n",
       "17708                                           Zootopia   \n",
       "17709                                    Zorba the Greek   \n",
       "17710                                               Zulu   \n",
       "17711                                          Zulu Dawn   \n",
       "\n",
       "                                              movie_info  \\\n",
       "0      Always trouble-prone, the life of teenager Per...   \n",
       "1      Kate (Catherine Keener) and her husband Alex (...   \n",
       "2      A successful, middle-aged Hollywood songwriter...   \n",
       "3      Following the closing arguments in a murder tr...   \n",
       "4      In 1866, Professor Pierre M. Aronnax (Paul Luk...   \n",
       "...                                                  ...   \n",
       "17707  Mexican-American gangster Henry Reyna (Daniel ...   \n",
       "17708  From the largest elephant to the smallest shre...   \n",
       "17709  Traveling to inspect an abandoned mine his fat...   \n",
       "17710  In 1879, the Zulu nation hands colonial Britis...   \n",
       "17711  Sir Henry Bartle Frere's (John Mills) vastly o...   \n",
       "\n",
       "                                       critics_consensus content_rating  \\\n",
       "0      Though it may seem like just another Harry Pot...             PG   \n",
       "1      Nicole Holofcener's newest might seem slight i...              R   \n",
       "2      Blake Edwards' bawdy comedy may not score a pe...              R   \n",
       "3      Sidney Lumet's feature debut is a superbly wri...             NR   \n",
       "4      One of Disney's finest live-action adventures,...              G   \n",
       "...                                                  ...            ...   \n",
       "17707                                                NaN              R   \n",
       "17708  The brilliantly well-rounded Zootopia offers a...             PG   \n",
       "17709                                                NaN             NR   \n",
       "17710  Zulu patiently establishes a cast of colorful ...             PG   \n",
       "17711                                                NaN             PG   \n",
       "\n",
       "                                                  genres  \\\n",
       "0      Action & Adventure, Comedy, Drama, Science Fic...   \n",
       "1                                                 Comedy   \n",
       "2                                        Comedy, Romance   \n",
       "3                                        Classics, Drama   \n",
       "4               Action & Adventure, Drama, Kids & Family   \n",
       "...                                                  ...   \n",
       "17707                   Drama, Musical & Performing Arts   \n",
       "17708              Action & Adventure, Animation, Comedy   \n",
       "17709  Action & Adventure, Art House & International,...   \n",
       "17710                                    Classics, Drama   \n",
       "17711  Action & Adventure, Art House & International,...   \n",
       "\n",
       "                                  directors  \\\n",
       "0                            Chris Columbus   \n",
       "1                         Nicole Holofcener   \n",
       "2                             Blake Edwards   \n",
       "3                              Sidney Lumet   \n",
       "4                         Richard Fleischer   \n",
       "...                                     ...   \n",
       "17707                           Luis Valdez   \n",
       "17708  Byron Howard, Rich Moore, Jared Bush   \n",
       "17709                                   NaN   \n",
       "17710           Cy Endfield, Cyril Endfield   \n",
       "17711                        Douglas Hickox   \n",
       "\n",
       "                                          authors  \\\n",
       "0      Craig Titley, Chris Columbus, Rick Riordan   \n",
       "1                               Nicole Holofcener   \n",
       "2                                   Blake Edwards   \n",
       "3                                   Reginald Rose   \n",
       "4                                     Earl Felton   \n",
       "...                                           ...   \n",
       "17707                                 Luis Valdez   \n",
       "17708                   Jared Bush, Phil Johnston   \n",
       "17709                                         NaN   \n",
       "17710                   Cy Endfield, John Prebble   \n",
       "17711                 Cy Endfield, Anthony Storey   \n",
       "\n",
       "                                                  actors  \\\n",
       "0      Logan Lerman, Brandon T. Jackson, Alexandra Da...   \n",
       "1      Catherine Keener, Amanda Peet, Oliver Platt, R...   \n",
       "2      Dudley Moore, Bo Derek, Julie Andrews, Robert ...   \n",
       "3      Martin Balsam, John Fiedler, Lee J. Cobb, E.G....   \n",
       "4      James Mason, Kirk Douglas, Paul Lukas, Peter L...   \n",
       "...                                                  ...   \n",
       "17707  Daniel Valdez, Edward James Olmos, Charles Aid...   \n",
       "17708  J.K. Simmons, Kristen Bell, Octavia Spencer, A...   \n",
       "17709  Anthony Quinn, Alan Bates, Irene Papas, Lila K...   \n",
       "17710  Stanley Baker, Jack Hawkins, Ulla Jacobsson, J...   \n",
       "17711  Burt Lancaster, Peter O'Toole, Simon Ward, Joh...   \n",
       "\n",
       "      original_release_date  ...             production_company  \\\n",
       "0                2010-02-12  ...               20th Century Fox   \n",
       "1                2010-04-30  ...         Sony Pictures Classics   \n",
       "2                1979-10-05  ...                    Waner Bros.   \n",
       "3                1957-04-13  ...           Criterion Collection   \n",
       "4                1954-01-01  ...                         Disney   \n",
       "...                     ...  ...                            ...   \n",
       "17707            1981-10-02  ...       MCA Universal Home Video   \n",
       "17708            2016-03-04  ...  Walt Disney Animation Studios   \n",
       "17709            1964-12-17  ...                            Fox   \n",
       "17710            1964-06-17  ...             Paramount Pictures   \n",
       "17711            1979-12-14  ...            Tango Entertainment   \n",
       "\n",
       "       tomatometer_status tomatometer_rating tomatometer_count  \\\n",
       "0                  Rotten               49.0             149.0   \n",
       "1         Certified-Fresh               87.0             142.0   \n",
       "2                   Fresh               67.0              24.0   \n",
       "3         Certified-Fresh              100.0              54.0   \n",
       "4                   Fresh               89.0              27.0   \n",
       "...                   ...                ...               ...   \n",
       "17707              Rotten               56.0               9.0   \n",
       "17708     Certified-Fresh               98.0             291.0   \n",
       "17709               Fresh               80.0              10.0   \n",
       "17710               Fresh               96.0              23.0   \n",
       "17711              Rotten               50.0               8.0   \n",
       "\n",
       "       audience_status  audience_rating audience_count  \\\n",
       "0              Spilled             53.0       254421.0   \n",
       "1              Upright             64.0        11574.0   \n",
       "2              Spilled             53.0        14684.0   \n",
       "3              Upright             97.0       105386.0   \n",
       "4              Upright             74.0        68918.0   \n",
       "...                ...              ...            ...   \n",
       "17707          Upright             74.0         1195.0   \n",
       "17708          Upright             92.0       101511.0   \n",
       "17709          Upright             86.0         7146.0   \n",
       "17710          Upright             91.0        30193.0   \n",
       "17711          Upright             62.0         4469.0   \n",
       "\n",
       "       tomatometer_top_critics_count  tomatometer_fresh_critics_count  \\\n",
       "0                                 43                               73   \n",
       "1                                 44                              123   \n",
       "2                                  2                               16   \n",
       "3                                  6                               54   \n",
       "4                                  5                               24   \n",
       "...                              ...                              ...   \n",
       "17707                              2                                5   \n",
       "17708                             50                              285   \n",
       "17709                              0                                8   \n",
       "17710                              6                               22   \n",
       "17711                              0                                4   \n",
       "\n",
       "       tomatometer_rotten_critics_count  \n",
       "0                                    76  \n",
       "1                                    19  \n",
       "2                                     8  \n",
       "3                                     0  \n",
       "4                                     3  \n",
       "...                                 ...  \n",
       "17707                                 4  \n",
       "17708                                 7  \n",
       "17709                                 2  \n",
       "17710                                 1  \n",
       "17711                                 4  \n",
       "\n",
       "[17712 rows x 22 columns]>"
      ]
     },
     "execution_count": 3,
     "metadata": {},
     "output_type": "execute_result"
    }
   ],
   "source": [
    "mov.head"
   ]
  },
  {
   "cell_type": "code",
   "execution_count": null,
   "id": "5065c614",
   "metadata": {},
   "outputs": [],
   "source": []
  }
 ],
 "metadata": {
  "kernelspec": {
   "display_name": "ReelMetrics",
   "language": "python",
   "name": "python3"
  },
  "language_info": {
   "codemirror_mode": {
    "name": "ipython",
    "version": 3
   },
   "file_extension": ".py",
   "mimetype": "text/x-python",
   "name": "python",
   "nbconvert_exporter": "python",
   "pygments_lexer": "ipython3",
   "version": "3.13.2"
  }
 },
 "nbformat": 4,
 "nbformat_minor": 5
}
